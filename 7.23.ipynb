{
 "cells": [
  {
   "cell_type": "markdown",
   "metadata": {},
   "source": [
    "# 对象和类\n",
    "- 一个学生，一张桌子，一个圆都是对象\n",
    "- 对象是类的一个实例，你可以创建多个对象，创建类的一个实例过程被称为实例化，\n",
    "- 在Python中对象就是实例，而实例就是对象"
   ]
  },
  {
   "cell_type": "code",
   "execution_count": null,
   "metadata": {},
   "outputs": [],
   "source": []
  },
  {
   "cell_type": "markdown",
   "metadata": {},
   "source": [
    "## 定义类\n",
    "class ClassName:\n",
    "\n",
    "    do something\n",
    "    \n",
    "- class 类的表示与def 一样\n",
    "- 类名最好使用驼峰式\n",
    "- 在Python2中类是需要继承基类object的，在Python中默认继承，可写可不写\n",
    "- 可以将普通代码理解为皮肤，而函数可以理解为内衣，那么类可以理解为外套"
   ]
  },
  {
   "cell_type": "markdown",
   "metadata": {},
   "source": [
    "#类必须初始化，是用self，初始化自身\n",
    "class wang:\n",
    "    def __init__(self,num1,num2):\n",
    "        print('我初始化了')\n",
    "    def print_(self):\n",
    "        print('wen hahahah')\n",
    "    def sum(self,num1,num2):\n",
    "        return num1+num2\n",
    "    def cheng(self,num1,num2):\n",
    "        return num1*num2"
   ]
  },
  {
   "cell_type": "code",
   "execution_count": 16,
   "metadata": {},
   "outputs": [],
   "source": [
    "#在类中，如果有\n",
    "class wang:\n",
    "    def __init__(self,num1,num2):\n",
    "        print('我初始化了')\n",
    "        self.num1=num1\n",
    "        self.num2=num2\n",
    "        print(self.num1,self.num2)\n",
    "    def sum(self):\n",
    "        return self.num1+self.num2\n",
    "    def cheng(self):\n",
    "        return self.num1*self.num2"
   ]
  },
  {
   "cell_type": "code",
   "execution_count": 17,
   "metadata": {},
   "outputs": [
    {
     "name": "stdout",
     "output_type": "stream",
     "text": [
      "我初始化了\n",
      "1 2\n"
     ]
    },
    {
     "data": {
      "text/plain": [
       "<__main__.wang at 0x1fc40251198>"
      ]
     },
     "execution_count": 17,
     "metadata": {},
     "output_type": "execute_result"
    }
   ],
   "source": [
    "wang(num1=1,num2=2)"
   ]
  },
  {
   "cell_type": "code",
   "execution_count": 73,
   "metadata": {},
   "outputs": [],
   "source": [
    "class h:\n",
    "    def __init__(self):\n",
    "        print('我初始化了')\n",
    "    def panduan(self,num):\n",
    "        if num % 2==0:\n",
    "            print('ou数')\n",
    "        else:\n",
    "            print('ji数')\n",
    "    def nian(self,shu):\n",
    "        if shu % 4==0:\n",
    "            print('闰年')\n",
    "        else:\n",
    "            print('平年')\n",
    "        \n",
    "        "
   ]
  },
  {
   "cell_type": "code",
   "execution_count": 78,
   "metadata": {},
   "outputs": [
    {
     "name": "stdout",
     "output_type": "stream",
     "text": [
      "我初始化了\n"
     ]
    }
   ],
   "source": [
    "x=h()"
   ]
  },
  {
   "cell_type": "code",
   "execution_count": 79,
   "metadata": {},
   "outputs": [
    {
     "name": "stdout",
     "output_type": "stream",
     "text": [
      "ou数\n"
     ]
    }
   ],
   "source": [
    "x.panduan(2)"
   ]
  },
  {
   "cell_type": "code",
   "execution_count": 80,
   "metadata": {},
   "outputs": [
    {
     "name": "stdout",
     "output_type": "stream",
     "text": [
      "闰年\n"
     ]
    }
   ],
   "source": [
    "x.nian(2012)"
   ]
  },
  {
   "cell_type": "code",
   "execution_count": 50,
   "metadata": {},
   "outputs": [
    {
     "ename": "TypeError",
     "evalue": "'wen' object is not callable",
     "output_type": "error",
     "traceback": [
      "\u001b[1;31m---------------------------------------------------------------------------\u001b[0m",
      "\u001b[1;31mTypeError\u001b[0m                                 Traceback (most recent call last)",
      "\u001b[1;32m<ipython-input-50-31504929f44e>\u001b[0m in \u001b[0;36m<module>\u001b[1;34m\u001b[0m\n\u001b[1;32m----> 1\u001b[1;33m \u001b[0mwen\u001b[0m \u001b[1;33m=\u001b[0m \u001b[0mwang\u001b[0m\u001b[1;33m(\u001b[0m\u001b[1;33m)\u001b[0m\u001b[1;31m#()代表直接走初始化函数\u001b[0m\u001b[1;33m\u001b[0m\u001b[1;33m\u001b[0m\u001b[0m\n\u001b[0m",
      "\u001b[1;31mTypeError\u001b[0m: 'wen' object is not callable"
     ]
    }
   ],
   "source": [
    "wen = wang()#()代表直接走初始化函数"
   ]
  },
  {
   "cell_type": "code",
   "execution_count": 15,
   "metadata": {},
   "outputs": [
    {
     "name": "stdout",
     "output_type": "stream",
     "text": [
      "wen hahahah\n"
     ]
    }
   ],
   "source": [
    "wen.print_()"
   ]
  },
  {
   "cell_type": "markdown",
   "metadata": {},
   "source": [
    "## 定义一个不含初始化__init__的简单类\n",
    "class ClassName:\n",
    "\n",
    "    joker = “Home”\n",
    "    \n",
    "    def func():\n",
    "        print('Worker')\n",
    "    \n",
    "- 尽量少使用"
   ]
  },
  {
   "cell_type": "markdown",
   "metadata": {},
   "source": [
    "\n",
    "\n",
    "## 定义一个标准类\n",
    "- __init__ 代表初始化，可以初始化任何动作\n",
    "- 此时类调用要使用()，其中（）可以理解为开始初始化\n",
    "- 初始化内的元素，类中其他的函数可以共享\n",
    "![](../Photo/85.png)"
   ]
  },
  {
   "cell_type": "markdown",
   "metadata": {},
   "source": [
    "- Circle 和 className_ 的第一个区别有 __init__ 这个函数\n",
    "- 。。。。   第二个区别，类中的每一个函数都有self的这个“参数”"
   ]
  },
  {
   "cell_type": "markdown",
   "metadata": {},
   "source": [
    "## 何为self？\n",
    "- self 是指向对象本身的参数\n",
    "- self 只是一个命名规则，其实可以改变的，但是我们约定俗成的是self，也便于理解\n",
    "- 使用了self就可以访问类中定义的成员\n",
    "<img src=\"../Photo/86.png\"></img>"
   ]
  },
  {
   "cell_type": "markdown",
   "metadata": {},
   "source": [
    "## 使用类 Cirlcle"
   ]
  },
  {
   "cell_type": "markdown",
   "metadata": {},
   "source": [
    "## 类的传参\n",
    "- class ClassName:\n",
    "    \n",
    "        def __init__(self, para1,para2...)：\n",
    "            \n",
    "            self.para1 = para1\n",
    "            \n",
    "            self.para2 = para2"
   ]
  },
  {
   "cell_type": "markdown",
   "metadata": {},
   "source": [
    "## EP:\n",
    "- A：定义一个类，类中含有两个功能：\n",
    "    - 1、产生3个随机数，获取最大值\n",
    "    - 2、产生3个随机数，获取最小值\n",
    "- B：定义一个类，（类中函数的嵌套使用）\n",
    "    - 1、第一个函数的功能为：输入一个数字\n",
    "    - 2、第二个函数的功能为：使用第一个函数中得到的数字进行平方处理\n",
    "    - 3、第三个函数的功能为：得到平方处理后的数字 - 原来输入的数字，并打印结果"
   ]
  },
  {
   "cell_type": "code",
   "execution_count": 57,
   "metadata": {},
   "outputs": [],
   "source": [
    "class n:\n",
    "    def __init__(self):\n",
    "        pass\n",
    "    def fun1(self):\n",
    "        self.num=eval(input('请输入一个数'))\n",
    "        print(self.num)\n",
    "    def fun2(self):\n",
    "        self.square=self.num**2\n",
    "        print(self.square)\n",
    "    def fun3(self):\n",
    "        self.cha=self.square-self.num\n",
    "        print(self.cha)"
   ]
  },
  {
   "cell_type": "code",
   "execution_count": 58,
   "metadata": {},
   "outputs": [],
   "source": [
    "a=n()"
   ]
  },
  {
   "cell_type": "code",
   "execution_count": 59,
   "metadata": {},
   "outputs": [
    {
     "name": "stdout",
     "output_type": "stream",
     "text": [
      "请输入一个数5\n",
      "5\n"
     ]
    }
   ],
   "source": [
    "a.fun1()"
   ]
  },
  {
   "cell_type": "code",
   "execution_count": 60,
   "metadata": {},
   "outputs": [
    {
     "name": "stdout",
     "output_type": "stream",
     "text": [
      "25\n"
     ]
    }
   ],
   "source": [
    "a.fun2()"
   ]
  },
  {
   "cell_type": "code",
   "execution_count": 61,
   "metadata": {},
   "outputs": [
    {
     "name": "stdout",
     "output_type": "stream",
     "text": [
      "20\n"
     ]
    }
   ],
   "source": [
    "a.fun3()"
   ]
  },
  {
   "cell_type": "code",
   "execution_count": 72,
   "metadata": {},
   "outputs": [],
   "source": [
    "import random\n",
    "class n:\n",
    "    def __init__(self):\n",
    "        pass\n",
    "    def func1(self):\n",
    "        num=eval(input('请输入一个数'))\n",
    "        print('输入的数字是：',num)\n",
    "        return num\n",
    "    def func2(self):\n",
    "        num=self.func1()\n",
    "        square=num**2\n",
    "        print('平方数是:',square)\n",
    "        return square,num\n",
    "    def func3(self):\n",
    "        square,num=self.func2()\n",
    "        cha=square-num\n",
    "        print('两者的差值是:',cha)\n",
    "        "
   ]
  },
  {
   "cell_type": "code",
   "execution_count": 73,
   "metadata": {},
   "outputs": [],
   "source": [
    "d=n()"
   ]
  },
  {
   "cell_type": "code",
   "execution_count": 74,
   "metadata": {},
   "outputs": [
    {
     "name": "stdout",
     "output_type": "stream",
     "text": [
      "请输入一个数5\n",
      "输入的数字是： 5\n",
      "平方数是: 25\n",
      "两者的差值是: 20\n"
     ]
    }
   ],
   "source": [
    "d.func3()"
   ]
  },
  {
   "cell_type": "code",
   "execution_count": null,
   "metadata": {},
   "outputs": [],
   "source": [
    "import random\n",
    "class qq():\n",
    "    def __init__(self):\n",
    "        self.\n",
    "    def zhanghao(self):\n",
    "        ming=eval(input('请输入一个9位数字'))\n",
    "        print('输入的账号是:',ming)\n",
    "    def mima(self):\n",
    "        baomi=eval(input('请输入一个8位数字'))\n",
    "        print('请输入的密码是:',baomi)\n",
    "    def yan(self):\n",
    "        a=random.randint(1,10)\n",
    "        b=random.randint(1,10)\n",
    "        c=random.randint(1,10)\n",
    "        d=random.randint(1,10)\n",
    "        print\n",
    "        "
   ]
  },
  {
   "cell_type": "code",
   "execution_count": 91,
   "metadata": {},
   "outputs": [],
   "source": [
    "import random\n",
    "class h:\n",
    "    def __init__(self):\n",
    "         print('我初始化了')\n",
    "    def max_(self):\n",
    "        a=random.randint(1,6)\n",
    "        b=random.randint(1,6)\n",
    "        c=random.randint(1,6)\n",
    "        print(a,b,c)\n",
    "        return max(a,b,c)\n",
    "    def min_(self):\n",
    "        a=random.randint(1,6)\n",
    "        b=random.randint(1,6)\n",
    "        c=random.randint(1,6)\n",
    "        print(a,b,c)\n",
    "        return min(a,b,c)\n",
    "        "
   ]
  },
  {
   "cell_type": "code",
   "execution_count": 92,
   "metadata": {},
   "outputs": [
    {
     "name": "stdout",
     "output_type": "stream",
     "text": [
      "我初始化了\n"
     ]
    }
   ],
   "source": [
    "f=h()"
   ]
  },
  {
   "cell_type": "code",
   "execution_count": 94,
   "metadata": {},
   "outputs": [
    {
     "name": "stdout",
     "output_type": "stream",
     "text": [
      "4 5 3\n"
     ]
    },
    {
     "data": {
      "text/plain": [
       "5"
      ]
     },
     "execution_count": 94,
     "metadata": {},
     "output_type": "execute_result"
    }
   ],
   "source": [
    "f.max_()"
   ]
  },
  {
   "cell_type": "markdown",
   "metadata": {},
   "source": [
    "## 类的继承\n",
    "- 类的单继承\n",
    "- 类的多继承\n",
    "- 继承标识\n",
    ">  class SonClass(FatherClass):\n",
    "            \n",
    "            def __init__(self):\n",
    "            \n",
    "                FatherClass.__init__(self)"
   ]
  },
  {
   "cell_type": "code",
   "execution_count": 2,
   "metadata": {},
   "outputs": [],
   "source": [
    "class A(object):\n",
    "    def __init__(self):\n",
    "        self.a='a'\n",
    "    def a_(self):\n",
    "        print('class A')\n",
    "class B(A):\n",
    "    def __init__(self):\n",
    "        A.__init__(self)\n",
    "        print(self.a)\n",
    "        self.a_()\n",
    "    def b_(self):\n",
    "        print(self.a)\n",
    "        self.a_()\n",
    "    "
   ]
  },
  {
   "cell_type": "code",
   "execution_count": 3,
   "metadata": {},
   "outputs": [
    {
     "name": "stdout",
     "output_type": "stream",
     "text": [
      "a\n",
      "class A\n"
     ]
    }
   ],
   "source": [
    "bb=B()"
   ]
  },
  {
   "cell_type": "code",
   "execution_count": 4,
   "metadata": {},
   "outputs": [
    {
     "name": "stdout",
     "output_type": "stream",
     "text": [
      "a\n",
      "class A\n"
     ]
    }
   ],
   "source": [
    "bb.b_()"
   ]
  },
  {
   "cell_type": "markdown",
   "metadata": {},
   "source": [
    "## 私有数据域(私有变量，或者私有函数)\n",
    "- 在Python中 变量名或者函数名使用双下划线代表私有  \\__Joker,   def \\__Joker():\n",
    "- 私有数据域不可继承\n",
    "- 私有数据域强制继承   \\__dir__()"
   ]
  },
  {
   "cell_type": "markdown",
   "metadata": {},
   "source": [
    "![](../Photo/87.png)"
   ]
  },
  {
   "cell_type": "markdown",
   "metadata": {},
   "source": [
    "## EP:\n",
    "![](../Photo/88.png)\n",
    "![](../Photo/89.png)\n",
    "![](../Photo/90.png)\n"
   ]
  },
  {
   "cell_type": "markdown",
   "metadata": {},
   "source": [
    "## 类的其他\n",
    "- 类的封装\n",
    "    - 实际上就是将一类功能放在一起，方便未来进行管理\n",
    "- 类的继承（上面已经讲过）\n",
    "- 类的多态\n",
    "    - 包括装饰器：将放在以后处理高级类中教\n",
    "    - 装饰器的好处：当许多类中的函数需要使用同一个功能的时候，那么使用装饰器就会方便许多\n",
    "    - 装饰器是有固定的写法\n",
    "        - 其包括普通装饰器与带参装饰器"
   ]
  },
  {
   "cell_type": "markdown",
   "metadata": {},
   "source": [
    "# Homewor\n",
    "## UML类图可以不用画\n",
    "## UML 实际上就是一个思维图\n",
    "- 1\n",
    "![](../Photo/91.png)"
   ]
  },
  {
   "cell_type": "code",
   "execution_count": 5,
   "metadata": {},
   "outputs": [],
   "source": [
    "class rectangle:\n",
    "    def __init__(self):\n",
    "        pass\n",
    "    def width(self):\n",
    "        self.num1=eval(input('请输入一个数:'))#输入宽\n",
    "        self.num2=eval(input('请输入一个数:'))\n",
    "        print(self.num1,self.num2)\n",
    "    def height(self):\n",
    "        self.number1=eval(input('请输入一个数:'))#输入高\n",
    "        self.number2=eval(input('请输入一个数:'))\n",
    "        print(self.number1,self.number2)\n",
    "    def getarea(self):\n",
    "        self.getarea1=self.num1*self.number1 #计算面积\n",
    "        self.getarea2=self.num2*self.number2\n",
    "        print(self.getarea1,self.getarea2)\n",
    "    def getperimeter(self):\n",
    "        self.getperimeter1=(self.num1+self.number1)*2 #计算周长\n",
    "        self.getperimeter2=(self.num2+self.number2)*2\n",
    "        print(self.getperimeter1,self.getperimeter2)"
   ]
  },
  {
   "cell_type": "code",
   "execution_count": 6,
   "metadata": {},
   "outputs": [],
   "source": [
    "a=rectangle()"
   ]
  },
  {
   "cell_type": "code",
   "execution_count": 7,
   "metadata": {},
   "outputs": [
    {
     "name": "stdout",
     "output_type": "stream",
     "text": [
      "请输入一个数:4\n",
      "请输入一个数:3.5\n",
      "4 3.5\n"
     ]
    }
   ],
   "source": [
    "a.width()"
   ]
  },
  {
   "cell_type": "code",
   "execution_count": 8,
   "metadata": {},
   "outputs": [
    {
     "name": "stdout",
     "output_type": "stream",
     "text": [
      "请输入一个数:40\n",
      "请输入一个数:35.7\n",
      "40 35.7\n"
     ]
    }
   ],
   "source": [
    "a.height()"
   ]
  },
  {
   "cell_type": "code",
   "execution_count": 9,
   "metadata": {},
   "outputs": [
    {
     "name": "stdout",
     "output_type": "stream",
     "text": [
      "160 124.95000000000002\n"
     ]
    }
   ],
   "source": [
    "a.getarea()"
   ]
  },
  {
   "cell_type": "code",
   "execution_count": 10,
   "metadata": {},
   "outputs": [
    {
     "name": "stdout",
     "output_type": "stream",
     "text": [
      "88 78.4\n"
     ]
    }
   ],
   "source": [
    "a.getperimeter()"
   ]
  },
  {
   "cell_type": "markdown",
   "metadata": {},
   "source": [
    "- 2\n",
    "![](../Photo/92.png)"
   ]
  },
  {
   "cell_type": "code",
   "execution_count": 65,
   "metadata": {},
   "outputs": [],
   "source": [
    "class account():\n",
    "    def __init__(self):\n",
    "        self.zhang='1122'\n",
    "    def id(self):\n",
    "        self.zhang=input('请输入账号:>>')\n",
    "        print(self.zhang)\n",
    "    def getmonthlyinterestrate(self):\n",
    "        self.annuallinterestrate=0.045\n",
    "        self.yuelilv=self.annuallinterestrate/12 #计算月利率\n",
    "        print('月利率为:',self.yuelilv)\n",
    "    def getmonthlyinterest(self):\n",
    "        self.yuelixi=20000*self.yuelilv\n",
    "        print('月利息为:',self.yuelixi) #计算月利息\n",
    "    def witndraw(self):\n",
    "        self.qu=eval(input('请输入取钱数:'))\n",
    "        print('取的钱',self.qu)\n",
    "    def deposit(self):\n",
    "        self.cun=eval(input('请输入存钱数:'))\n",
    "        print('存的钱:',self.cun)\n",
    "    def yu(self):\n",
    "        self.sheng=20000* self.annuallinterestrate+20000+self.cun-self.qu #计算余额\n",
    "        print(self.sheng)"
   ]
  },
  {
   "cell_type": "code",
   "execution_count": 66,
   "metadata": {},
   "outputs": [],
   "source": [
    "n=account()"
   ]
  },
  {
   "cell_type": "code",
   "execution_count": 67,
   "metadata": {},
   "outputs": [
    {
     "name": "stdout",
     "output_type": "stream",
     "text": [
      "请输入账号:>>1122\n",
      "1122\n"
     ]
    }
   ],
   "source": [
    "n.id()"
   ]
  },
  {
   "cell_type": "code",
   "execution_count": 68,
   "metadata": {},
   "outputs": [
    {
     "name": "stdout",
     "output_type": "stream",
     "text": [
      "月利率为: 0.00375\n"
     ]
    }
   ],
   "source": [
    "n.getmonthlyinterestrate()"
   ]
  },
  {
   "cell_type": "code",
   "execution_count": 69,
   "metadata": {},
   "outputs": [
    {
     "name": "stdout",
     "output_type": "stream",
     "text": [
      "月利息为: 75.0\n"
     ]
    }
   ],
   "source": [
    "n.getmonthlyinterest()"
   ]
  },
  {
   "cell_type": "code",
   "execution_count": 70,
   "metadata": {},
   "outputs": [
    {
     "name": "stdout",
     "output_type": "stream",
     "text": [
      "请输入存钱数:3000\n",
      "存的钱: 3000\n"
     ]
    }
   ],
   "source": [
    "n.deposit()"
   ]
  },
  {
   "cell_type": "code",
   "execution_count": 71,
   "metadata": {},
   "outputs": [
    {
     "name": "stdout",
     "output_type": "stream",
     "text": [
      "请输入取钱数:2500\n",
      "取的钱 2500\n"
     ]
    }
   ],
   "source": [
    "n.witndraw()"
   ]
  },
  {
   "cell_type": "code",
   "execution_count": 72,
   "metadata": {},
   "outputs": [
    {
     "name": "stdout",
     "output_type": "stream",
     "text": [
      "21400.0\n"
     ]
    }
   ],
   "source": [
    "n.yu()"
   ]
  },
  {
   "cell_type": "markdown",
   "metadata": {},
   "source": [
    "- 3\n",
    "![](../Photo/93.png)"
   ]
  },
  {
   "cell_type": "code",
   "execution_count": 19,
   "metadata": {},
   "outputs": [],
   "source": [
    "class fan:\n",
    "    def __init__(self):\n",
    "        self.__speed=('slow') #赋值变量\n",
    "        self.__on=('False')\n",
    "        self.__radius=('5')\n",
    "        self.__color=('blue')\n",
    "    def fengshan1(self):\n",
    "        self.color=('黄色') #第一个风扇\n",
    "        self.speed=('最大速度')\n",
    "        self.on=('关')\n",
    "        self.radius=(10)\n",
    "        print('风扇颜色为:',self.color,'风扇速度为:',self.speed,'风扇状态:',self.on,'风扇半径为:',self.radius)\n",
    "    def fengshan2(self):\n",
    "        self.color=('蓝色') #第二个风扇\n",
    "        self.speed=('中速')\n",
    "        self.on=('开')\n",
    "        self.radius=(5)\n",
    "        print('风扇颜色为:',self.color,'风扇速度为:',self.speed,'风扇状态:',self.on,'风扇半径为:',self.radius)"
   ]
  },
  {
   "cell_type": "code",
   "execution_count": 20,
   "metadata": {},
   "outputs": [],
   "source": [
    "b=fan()"
   ]
  },
  {
   "cell_type": "code",
   "execution_count": 21,
   "metadata": {},
   "outputs": [
    {
     "name": "stdout",
     "output_type": "stream",
     "text": [
      "风扇颜色为: 黄色 风扇速度为: 最大速度 风扇状态: 关 风扇半径为: 10\n"
     ]
    }
   ],
   "source": [
    "b.fengshan1()"
   ]
  },
  {
   "cell_type": "code",
   "execution_count": 22,
   "metadata": {},
   "outputs": [
    {
     "name": "stdout",
     "output_type": "stream",
     "text": [
      "风扇颜色为: 蓝色 风扇速度为: 中速 风扇状态: 开 风扇半径为: 5\n"
     ]
    }
   ],
   "source": [
    "b.fengshan2()"
   ]
  },
  {
   "cell_type": "markdown",
   "metadata": {},
   "source": [
    "- 4\n",
    "![](../Photo/94.png)\n",
    "![](../Photo/95.png)"
   ]
  },
  {
   "cell_type": "code",
   "execution_count": null,
   "metadata": {},
   "outputs": [],
   "source": [
    "\n",
    "    \n",
    "        "
   ]
  },
  {
   "cell_type": "markdown",
   "metadata": {},
   "source": [
    "- 5\n",
    "![](../Photo/96.png)"
   ]
  },
  {
   "cell_type": "code",
   "execution_count": 14,
   "metadata": {},
   "outputs": [],
   "source": [
    "class linearequation():\n",
    "    def __init__(self):\n",
    "        pass\n",
    "    def get(self):\n",
    "        self.a=eval(input('请输入一个数:')) #输入数值\n",
    "        self.b=eval(input('请输入一个数:'))\n",
    "        self.c=eval(input('请输入一个数:'))\n",
    "        self.d=eval(input('请输入一个数:'))\n",
    "        self.e=eval(input('请输入一个数:'))\n",
    "        self.f=eval(input('请输入一个数:'))\n",
    "        print(self.a,self.b,self.c,self.d,self.e,self.f)\n",
    "    def issolvable(self):\n",
    "        if self.a*self.d-self.b*self.c!=0: #判断是否有解\n",
    "            print('true')\n",
    "        else:\n",
    "            print('无解')\n",
    "    def gerx(self):\n",
    "        self.x=(self.e*self.d-self.b*self.f)/(self.a*self.d-self.b*self.c) #计算x值\n",
    "        print(self.x)\n",
    "    def gery(self):\n",
    "        self.y=(self.a*self.f-self.e*self.c)/(self.a*self.d-self.b*self.c) #计算y值\n",
    "        print(self.y)"
   ]
  },
  {
   "cell_type": "code",
   "execution_count": 15,
   "metadata": {},
   "outputs": [],
   "source": [
    "d=linearequation()"
   ]
  },
  {
   "cell_type": "code",
   "execution_count": 16,
   "metadata": {},
   "outputs": [
    {
     "name": "stdout",
     "output_type": "stream",
     "text": [
      "请输入一个数:1\n",
      "请输入一个数:2\n",
      "请输入一个数:2\n",
      "请输入一个数:1\n",
      "请输入一个数:3\n",
      "请输入一个数:4\n",
      "1 2 2 1 3 4\n"
     ]
    }
   ],
   "source": [
    "d.get()"
   ]
  },
  {
   "cell_type": "code",
   "execution_count": 17,
   "metadata": {},
   "outputs": [
    {
     "name": "stdout",
     "output_type": "stream",
     "text": [
      "true\n"
     ]
    }
   ],
   "source": [
    "d.issolvable()"
   ]
  },
  {
   "cell_type": "code",
   "execution_count": 18,
   "metadata": {},
   "outputs": [
    {
     "name": "stdout",
     "output_type": "stream",
     "text": [
      "1.6666666666666667\n"
     ]
    }
   ],
   "source": [
    "d.gerx()"
   ]
  },
  {
   "cell_type": "code",
   "execution_count": 19,
   "metadata": {},
   "outputs": [
    {
     "name": "stdout",
     "output_type": "stream",
     "text": [
      "0.6666666666666666\n"
     ]
    }
   ],
   "source": [
    "d.gery()"
   ]
  },
  {
   "cell_type": "markdown",
   "metadata": {},
   "source": [
    "- 6\n",
    "![](../Photo/97.png)"
   ]
  },
  {
   "cell_type": "code",
   "execution_count": 61,
   "metadata": {},
   "outputs": [],
   "source": [
    "class linearequation():\n",
    "    def __init__(self):\n",
    "        print('我初始化了')\n",
    "    def get(self):\n",
    "        self.x1=eval(input('x1:')) #输入点的坐标\n",
    "        self.y1=eval(input('y1:'))\n",
    "        self.x2=eval(input('x2:'))\n",
    "        self.y2=eval(input('y2:'))\n",
    "        self.x3=eval(input('x3:'))\n",
    "        self.y3=eval(input('y3:'))\n",
    "        self.x4=eval(input('x4:'))\n",
    "        self.y4=eval(input('y4:'))\n",
    "        print(self.x1,self.y1,self.x2,self.y2,self.x3,self.y3,self.x4,self.y4)\n",
    "    def yigehanshu(self):\n",
    "        self.k=(self.y1-self.y2)/(self.x1-self.x2) #求出第一个函数\n",
    "        self.b=self.y1-self.k*self.x1 \n",
    "        print('y=','self.k*x','+self.b')\n",
    "    def ergehanshu(self):\n",
    "        self.k=(self.y4-self.y3)/(self.x4-self.x3)#求出第二个函数\n",
    "        self.b=self.y3-self.k*self.x3\n",
    "        print('y5=','self.k*x','+self.b')\n",
    "    def heng(self):\n",
    "        self.heng=((self.y-self.b)-(self.y5-self.b))/self.k #求出交点的横坐标\n",
    "        print(self.heng)\n",
    "    def zong(self):\n",
    "        self.zong=self.heng*self.k+self.b #求出交点的纵坐标\n",
    "        print(self.zong)"
   ]
  },
  {
   "cell_type": "code",
   "execution_count": 62,
   "metadata": {},
   "outputs": [
    {
     "name": "stdout",
     "output_type": "stream",
     "text": [
      "我初始化了\n"
     ]
    }
   ],
   "source": [
    "f=linearequation()"
   ]
  },
  {
   "cell_type": "code",
   "execution_count": 63,
   "metadata": {},
   "outputs": [
    {
     "name": "stdout",
     "output_type": "stream",
     "text": [
      "x1:2\n",
      "y1:2\n",
      "x2:0\n",
      "y2:0\n",
      "x3:0\n",
      "y3:2\n",
      "x4:2\n",
      "y4:0\n",
      "2 2 0 0 0 2 2 0\n"
     ]
    }
   ],
   "source": [
    "f.get()"
   ]
  },
  {
   "cell_type": "code",
   "execution_count": 64,
   "metadata": {},
   "outputs": [
    {
     "name": "stdout",
     "output_type": "stream",
     "text": [
      "y= self.k*x +self.b\n"
     ]
    }
   ],
   "source": [
    "f.yigehanshu()"
   ]
  },
  {
   "cell_type": "code",
   "execution_count": 65,
   "metadata": {},
   "outputs": [
    {
     "name": "stdout",
     "output_type": "stream",
     "text": [
      "y5= self.k*x +self.b\n"
     ]
    }
   ],
   "source": [
    "f.ergehanshu()"
   ]
  },
  {
   "cell_type": "code",
   "execution_count": 66,
   "metadata": {
    "scrolled": true
   },
   "outputs": [
    {
     "ename": "AttributeError",
     "evalue": "'linearequation' object has no attribute 'y'",
     "output_type": "error",
     "traceback": [
      "\u001b[1;31m---------------------------------------------------------------------------\u001b[0m",
      "\u001b[1;31mAttributeError\u001b[0m                            Traceback (most recent call last)",
      "\u001b[1;32m<ipython-input-66-43cbc8739848>\u001b[0m in \u001b[0;36m<module>\u001b[1;34m\u001b[0m\n\u001b[1;32m----> 1\u001b[1;33m \u001b[0mf\u001b[0m\u001b[1;33m.\u001b[0m\u001b[0mheng\u001b[0m\u001b[1;33m(\u001b[0m\u001b[1;33m)\u001b[0m\u001b[1;33m\u001b[0m\u001b[1;33m\u001b[0m\u001b[0m\n\u001b[0m",
      "\u001b[1;32m<ipython-input-61-d3a44cbd5fc6>\u001b[0m in \u001b[0;36mheng\u001b[1;34m(self)\u001b[0m\n\u001b[0;32m     21\u001b[0m         \u001b[0mprint\u001b[0m\u001b[1;33m(\u001b[0m\u001b[1;34m'y5='\u001b[0m\u001b[1;33m,\u001b[0m\u001b[1;34m'self.k*x'\u001b[0m\u001b[1;33m,\u001b[0m\u001b[1;34m'+self.b'\u001b[0m\u001b[1;33m)\u001b[0m\u001b[1;33m\u001b[0m\u001b[1;33m\u001b[0m\u001b[0m\n\u001b[0;32m     22\u001b[0m     \u001b[1;32mdef\u001b[0m \u001b[0mheng\u001b[0m\u001b[1;33m(\u001b[0m\u001b[0mself\u001b[0m\u001b[1;33m)\u001b[0m\u001b[1;33m:\u001b[0m\u001b[1;33m\u001b[0m\u001b[1;33m\u001b[0m\u001b[0m\n\u001b[1;32m---> 23\u001b[1;33m         \u001b[0mself\u001b[0m\u001b[1;33m.\u001b[0m\u001b[0mheng\u001b[0m\u001b[1;33m=\u001b[0m\u001b[1;33m(\u001b[0m\u001b[1;33m(\u001b[0m\u001b[0mself\u001b[0m\u001b[1;33m.\u001b[0m\u001b[0my\u001b[0m\u001b[1;33m-\u001b[0m\u001b[0mself\u001b[0m\u001b[1;33m.\u001b[0m\u001b[0mb\u001b[0m\u001b[1;33m)\u001b[0m\u001b[1;33m-\u001b[0m\u001b[1;33m(\u001b[0m\u001b[0mself\u001b[0m\u001b[1;33m.\u001b[0m\u001b[0my5\u001b[0m\u001b[1;33m-\u001b[0m\u001b[0mself\u001b[0m\u001b[1;33m.\u001b[0m\u001b[0mb\u001b[0m\u001b[1;33m)\u001b[0m\u001b[1;33m)\u001b[0m\u001b[1;33m/\u001b[0m\u001b[0mself\u001b[0m\u001b[1;33m.\u001b[0m\u001b[0mk\u001b[0m \u001b[1;31m#求出交点的横坐标\u001b[0m\u001b[1;33m\u001b[0m\u001b[1;33m\u001b[0m\u001b[0m\n\u001b[0m\u001b[0;32m     24\u001b[0m         \u001b[0mprint\u001b[0m\u001b[1;33m(\u001b[0m\u001b[0mself\u001b[0m\u001b[1;33m.\u001b[0m\u001b[0mheng\u001b[0m\u001b[1;33m)\u001b[0m\u001b[1;33m\u001b[0m\u001b[1;33m\u001b[0m\u001b[0m\n\u001b[0;32m     25\u001b[0m     \u001b[1;32mdef\u001b[0m \u001b[0mzong\u001b[0m\u001b[1;33m(\u001b[0m\u001b[0mself\u001b[0m\u001b[1;33m)\u001b[0m\u001b[1;33m:\u001b[0m\u001b[1;33m\u001b[0m\u001b[1;33m\u001b[0m\u001b[0m\n",
      "\u001b[1;31mAttributeError\u001b[0m: 'linearequation' object has no attribute 'y'"
     ]
    }
   ],
   "source": [
    "f.heng()"
   ]
  },
  {
   "cell_type": "code",
   "execution_count": 67,
   "metadata": {},
   "outputs": [
    {
     "ename": "TypeError",
     "evalue": "unsupported operand type(s) for *: 'method' and 'float'",
     "output_type": "error",
     "traceback": [
      "\u001b[1;31m---------------------------------------------------------------------------\u001b[0m",
      "\u001b[1;31mTypeError\u001b[0m                                 Traceback (most recent call last)",
      "\u001b[1;32m<ipython-input-67-765e3d5a9fbc>\u001b[0m in \u001b[0;36m<module>\u001b[1;34m\u001b[0m\n\u001b[1;32m----> 1\u001b[1;33m \u001b[0mf\u001b[0m\u001b[1;33m.\u001b[0m\u001b[0mzong\u001b[0m\u001b[1;33m(\u001b[0m\u001b[1;33m)\u001b[0m\u001b[1;33m\u001b[0m\u001b[1;33m\u001b[0m\u001b[0m\n\u001b[0m",
      "\u001b[1;32m<ipython-input-61-d3a44cbd5fc6>\u001b[0m in \u001b[0;36mzong\u001b[1;34m(self)\u001b[0m\n\u001b[0;32m     24\u001b[0m         \u001b[0mprint\u001b[0m\u001b[1;33m(\u001b[0m\u001b[0mself\u001b[0m\u001b[1;33m.\u001b[0m\u001b[0mheng\u001b[0m\u001b[1;33m)\u001b[0m\u001b[1;33m\u001b[0m\u001b[1;33m\u001b[0m\u001b[0m\n\u001b[0;32m     25\u001b[0m     \u001b[1;32mdef\u001b[0m \u001b[0mzong\u001b[0m\u001b[1;33m(\u001b[0m\u001b[0mself\u001b[0m\u001b[1;33m)\u001b[0m\u001b[1;33m:\u001b[0m\u001b[1;33m\u001b[0m\u001b[1;33m\u001b[0m\u001b[0m\n\u001b[1;32m---> 26\u001b[1;33m         \u001b[0mself\u001b[0m\u001b[1;33m.\u001b[0m\u001b[0mzong\u001b[0m\u001b[1;33m=\u001b[0m\u001b[0mself\u001b[0m\u001b[1;33m.\u001b[0m\u001b[0mheng\u001b[0m\u001b[1;33m*\u001b[0m\u001b[0mself\u001b[0m\u001b[1;33m.\u001b[0m\u001b[0mk\u001b[0m\u001b[1;33m+\u001b[0m\u001b[0mself\u001b[0m\u001b[1;33m.\u001b[0m\u001b[0mb\u001b[0m \u001b[1;31m#求出交点的纵坐标\u001b[0m\u001b[1;33m\u001b[0m\u001b[1;33m\u001b[0m\u001b[0m\n\u001b[0m\u001b[0;32m     27\u001b[0m         \u001b[0mprint\u001b[0m\u001b[1;33m(\u001b[0m\u001b[0mself\u001b[0m\u001b[1;33m.\u001b[0m\u001b[0mzong\u001b[0m\u001b[1;33m)\u001b[0m\u001b[1;33m\u001b[0m\u001b[1;33m\u001b[0m\u001b[0m\n",
      "\u001b[1;31mTypeError\u001b[0m: unsupported operand type(s) for *: 'method' and 'float'"
     ]
    }
   ],
   "source": [
    "f.zong()"
   ]
  },
  {
   "cell_type": "markdown",
   "metadata": {},
   "source": [
    "- 7\n",
    "![](../Photo/98.png)"
   ]
  }
 ],
 "metadata": {
  "kernelspec": {
   "display_name": "Python 3",
   "language": "python",
   "name": "python3"
  },
  "language_info": {
   "codemirror_mode": {
    "name": "ipython",
    "version": 3
   },
   "file_extension": ".py",
   "mimetype": "text/x-python",
   "name": "python",
   "nbconvert_exporter": "python",
   "pygments_lexer": "ipython3",
   "version": "3.7.3"
  }
 },
 "nbformat": 4,
 "nbformat_minor": 2
}
