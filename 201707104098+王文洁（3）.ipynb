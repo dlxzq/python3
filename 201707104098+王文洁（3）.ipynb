{
 "cells": [
  {
   "cell_type": "markdown",
   "metadata": {},
   "source": [
    "# 选择\n",
    "## 布尔类型、数值和表达式\n",
    "![](../Photo/33.png)\n",
    "- 注意：比较运算符的相等是两个等号，一个等到代表赋值\n",
    "- 在Python中可以用整型0来代表False，其他数字来代表True\n",
    "- 后面还会讲到 is 在判断语句中的用发"
   ]
  },
  {
   "cell_type": "code",
   "execution_count": 3,
   "metadata": {},
   "outputs": [
    {
     "data": {
      "text/plain": [
       "True"
      ]
     },
     "execution_count": 3,
     "metadata": {},
     "output_type": "execute_result"
    }
   ],
   "source": [
    "a =1\n",
    "b =1\n",
    "a ==b\n"
   ]
  },
  {
   "cell_type": "code",
   "execution_count": 4,
   "metadata": {},
   "outputs": [
    {
     "data": {
      "text/plain": [
       "False"
      ]
     },
     "execution_count": 4,
     "metadata": {},
     "output_type": "execute_result"
    }
   ],
   "source": [
    "a ='1'\n",
    "b ='2'\n",
    "a ==b"
   ]
  },
  {
   "cell_type": "code",
   "execution_count": 5,
   "metadata": {},
   "outputs": [
    {
     "data": {
      "text/plain": [
       "False"
      ]
     },
     "execution_count": 5,
     "metadata": {},
     "output_type": "execute_result"
    }
   ],
   "source": [
    "a =1\n",
    "b ='2'\n",
    "a ==b"
   ]
  },
  {
   "cell_type": "code",
   "execution_count": 6,
   "metadata": {},
   "outputs": [
    {
     "data": {
      "text/plain": [
       "True"
      ]
     },
     "execution_count": 6,
     "metadata": {},
     "output_type": "execute_result"
    }
   ],
   "source": [
    "0 ==0"
   ]
  },
  {
   "cell_type": "code",
   "execution_count": 8,
   "metadata": {},
   "outputs": [
    {
     "data": {
      "text/plain": [
       "True"
      ]
     },
     "execution_count": 8,
     "metadata": {},
     "output_type": "execute_result"
    }
   ],
   "source": [
    "a ='Joker'\n",
    "b ='Jahah'\n",
    "a>b"
   ]
  },
  {
   "cell_type": "code",
   "execution_count": null,
   "metadata": {},
   "outputs": [],
   "source": []
  },
  {
   "cell_type": "markdown",
   "metadata": {},
   "source": [
    "## 字符串的比较使用ASCII值"
   ]
  },
  {
   "cell_type": "markdown",
   "metadata": {},
   "source": [
    "## Markdown \n",
    "- https://github.com/younghz/Markdown"
   ]
  },
  {
   "cell_type": "code",
   "execution_count": 10,
   "metadata": {},
   "outputs": [
    {
     "ename": "SyntaxError",
     "evalue": "invalid syntax (<ipython-input-10-7620fb7a99cb>, line 1)",
     "output_type": "error",
     "traceback": [
      "\u001b[1;36m  File \u001b[1;32m\"<ipython-input-10-7620fb7a99cb>\"\u001b[1;36m, line \u001b[1;32m1\u001b[0m\n\u001b[1;33m    $X =2 *X+ $1\u001b[0m\n\u001b[1;37m    ^\u001b[0m\n\u001b[1;31mSyntaxError\u001b[0m\u001b[1;31m:\u001b[0m invalid syntax\n"
     ]
    }
   ],
   "source": []
  },
  {
   "cell_type": "markdown",
   "metadata": {},
   "source": [
    "## EP:\n",
    "- <img src=\"../Photo/34.png\"></img>\n",
    "- 输入一个数字，判断其实奇数还是偶数"
   ]
  },
  {
   "cell_type": "code",
   "execution_count": 15,
   "metadata": {},
   "outputs": [
    {
     "data": {
      "text/plain": [
       "1"
      ]
     },
     "execution_count": 15,
     "metadata": {},
     "output_type": "execute_result"
    }
   ],
   "source": [
    "int(True)"
   ]
  },
  {
   "cell_type": "code",
   "execution_count": 16,
   "metadata": {},
   "outputs": [
    {
     "name": "stdout",
     "output_type": "stream",
     "text": [
      "1\n"
     ]
    }
   ],
   "source": [
    "i =int(True)\n",
    "print(i)"
   ]
  },
  {
   "cell_type": "code",
   "execution_count": 1,
   "metadata": {},
   "outputs": [
    {
     "name": "stdout",
     "output_type": "stream",
     "text": [
      "请输入一个数字5\n",
      "奇数\n"
     ]
    }
   ],
   "source": [
    "x =eval(input('请输入一个数字'))\n",
    "if x % 2 ==0:\n",
    "    print('偶数')\n",
    "if x % 2==1:\n",
    "    print('奇数')"
   ]
  },
  {
   "cell_type": "code",
   "execution_count": 3,
   "metadata": {},
   "outputs": [
    {
     "name": "stdout",
     "output_type": "stream",
     "text": [
      "x\">>5\n",
      "奇数\n"
     ]
    }
   ],
   "source": [
    "x =eval(input('x\">>'))\n",
    "if bool ==(x%2):\n",
    "    print('偶数')\n",
    "else:\n",
    "    print('奇数')"
   ]
  },
  {
   "cell_type": "markdown",
   "metadata": {},
   "source": [
    "## 产生随机数字\n",
    "- 函数random.randint(a,b) 可以用来产生一个a和b之间且包括a和b的随机整数"
   ]
  },
  {
   "cell_type": "code",
   "execution_count": 4,
   "metadata": {},
   "outputs": [],
   "source": [
    "import random"
   ]
  },
  {
   "cell_type": "code",
   "execution_count": 5,
   "metadata": {},
   "outputs": [
    {
     "data": {
      "text/plain": [
       "2"
      ]
     },
     "execution_count": 5,
     "metadata": {},
     "output_type": "execute_result"
    }
   ],
   "source": [
    "random .randint(2,3)"
   ]
  },
  {
   "cell_type": "markdown",
   "metadata": {},
   "source": [
    "产生一个随机数，你去输入，如果你输入的数大于随机数，那么就告诉你太大了，反之，太小了，\n",
    "然后你一直输入，知道它满意为止"
   ]
  },
  {
   "cell_type": "code",
   "execution_count": 10,
   "metadata": {},
   "outputs": [],
   "source": [
    "import random"
   ]
  },
  {
   "cell_type": "code",
   "execution_count": 13,
   "metadata": {},
   "outputs": [],
   "source": [
    "n = random.randint(0,12)\n",
    "\n"
   ]
  },
  {
   "cell_type": "code",
   "execution_count": 16,
   "metadata": {},
   "outputs": [
    {
     "name": "stdout",
     "output_type": "stream",
     "text": [
      "请输入一个数4\n",
      "太小了\n"
     ]
    }
   ],
   "source": [
    "x =eval(input('请输入一个数'))\n",
    "if x>n:\n",
    "    print('太大了')\n",
    "if x<n:\n",
    "    print('太小了')\n",
    "\n",
    "if x==n:\n",
    "    print('正确')"
   ]
  },
  {
   "cell_type": "code",
   "execution_count": null,
   "metadata": {},
   "outputs": [],
   "source": [
    "while is\n",
    " os . systea('cale')\n"
   ]
  },
  {
   "cell_type": "code",
   "execution_count": null,
   "metadata": {},
   "outputs": [],
   "source": []
  },
  {
   "cell_type": "markdown",
   "metadata": {},
   "source": [
    "其他random方法\n",
    "- random.random 返回0.0到1.0之间前闭后开区间的随机浮点\n",
    "- random.randrange(a,b) 前闭后开"
   ]
  },
  {
   "cell_type": "code",
   "execution_count": 17,
   "metadata": {},
   "outputs": [
    {
     "data": {
      "text/plain": [
       "0.6235737754526531"
      ]
     },
     "execution_count": 17,
     "metadata": {},
     "output_type": "execute_result"
    }
   ],
   "source": [
    "random.random()"
   ]
  },
  {
   "cell_type": "code",
   "execution_count": 18,
   "metadata": {},
   "outputs": [
    {
     "data": {
      "text/plain": [
       "6"
      ]
     },
     "execution_count": 18,
     "metadata": {},
     "output_type": "execute_result"
    }
   ],
   "source": [
    "random.randrange(0,10)#前闭后开"
   ]
  },
  {
   "cell_type": "markdown",
   "metadata": {},
   "source": [
    "## EP：\n",
    "- 产生两个随机整数number1和number2，然后显示给用户，使用户输入数字的和，并判定其是否正确\n",
    "- 进阶:写一个随机序号点名程序"
   ]
  },
  {
   "cell_type": "code",
   "execution_count": 35,
   "metadata": {},
   "outputs": [
    {
     "name": "stdout",
     "output_type": "stream",
     "text": [
      "5\n"
     ]
    }
   ],
   "source": [
    "x1=random.randrange(0,12)\n",
    "print(x1)\n"
   ]
  },
  {
   "cell_type": "code",
   "execution_count": 36,
   "metadata": {},
   "outputs": [
    {
     "name": "stdout",
     "output_type": "stream",
     "text": [
      "0\n"
     ]
    }
   ],
   "source": [
    "x2=random.randrange(0,11)\n",
    "print(x2)"
   ]
  },
  {
   "cell_type": "code",
   "execution_count": 37,
   "metadata": {},
   "outputs": [
    {
     "name": "stdout",
     "output_type": "stream",
     "text": [
      "x1+x25+0\n",
      "5\n"
     ]
    }
   ],
   "source": [
    "x =eval(input('x1+x2'))\n",
    "print(x)"
   ]
  },
  {
   "cell_type": "code",
   "execution_count": 1,
   "metadata": {},
   "outputs": [],
   "source": [
    "import random"
   ]
  },
  {
   "cell_type": "code",
   "execution_count": 2,
   "metadata": {},
   "outputs": [],
   "source": [
    "x1=random.randrange(0,12)"
   ]
  },
  {
   "cell_type": "code",
   "execution_count": 3,
   "metadata": {},
   "outputs": [],
   "source": [
    "x2=random.randrange(0,11)"
   ]
  },
  {
   "cell_type": "code",
   "execution_count": 5,
   "metadata": {},
   "outputs": [
    {
     "ename": "SyntaxError",
     "evalue": "invalid syntax (<ipython-input-5-06f7ca061274>, line 2)",
     "output_type": "error",
     "traceback": [
      "\u001b[1;36m  File \u001b[1;32m\"<ipython-input-5-06f7ca061274>\"\u001b[1;36m, line \u001b[1;32m2\u001b[0m\n\u001b[1;33m    if x=x1+x2:\u001b[0m\n\u001b[1;37m        ^\u001b[0m\n\u001b[1;31mSyntaxError\u001b[0m\u001b[1;31m:\u001b[0m invalid syntax\n"
     ]
    }
   ],
   "source": [
    "x=eval(input('x'))\n",
    "if x=x1+x2:\n",
    "    print('正确')\n",
    "    else:\n",
    "        print('不正确')\n",
    "    "
   ]
  },
  {
   "cell_type": "markdown",
   "metadata": {},
   "source": [
    "## if语句\n",
    "- 如果条件正确就执行一个单向if语句，亦即当条件为真的时候才执行if内部的语句\n",
    "- Python有很多选择语句:\n",
    "> - 单向if \n",
    "  - 双向if-else\n",
    "  - 嵌套if\n",
    "  - 多向if-elif-else\n",
    "  \n",
    "- 注意：当语句含有子语句的时候，那么一定至少要有一个缩进，也就是说如果有儿子存在，那么一定要缩进\n",
    "- 切记不可tab键和space混用，单用tab 或者 space\n",
    "- 当你输出的结果是无论if是否为真时都需要显示时，语句应该与if对齐"
   ]
  },
  {
   "cell_type": "code",
   "execution_count": 11,
   "metadata": {},
   "outputs": [
    {
     "name": "stdout",
     "output_type": "stream",
     "text": [
      "6 3\n"
     ]
    }
   ],
   "source": [
    "a=random.randint(1,7)\n",
    "b=random.randint(1,7)\n",
    "print(a,b)"
   ]
  },
  {
   "cell_type": "code",
   "execution_count": 14,
   "metadata": {},
   "outputs": [
    {
     "name": "stdout",
     "output_type": "stream",
     "text": [
      "请输入数字的和5\n",
      "错误\n",
      "请输入数字的和6\n",
      "错误\n",
      "请输入数字的和9\n",
      "正确\n"
     ]
    }
   ],
   "source": [
    "for i  in range(5):\n",
    "    n=eval(input('请输入数字的和'))\n",
    "    if n==a+b:\n",
    "        print('正确')\n",
    "        break\n",
    "    else:\n",
    "        print('错误')"
   ]
  },
  {
   "cell_type": "code",
   "execution_count": 15,
   "metadata": {},
   "outputs": [
    {
     "name": "stdout",
     "output_type": "stream",
     "text": [
      "x2\n",
      "2 可以整除\n",
      "5 可以整除\n"
     ]
    }
   ],
   "source": [
    "x =eval(input('x'))\n",
    "\n",
    "for i  in(2,5):\n",
    "    if x%1 ==0:\n",
    "        print(i,'可以整除')"
   ]
  },
  {
   "cell_type": "code",
   "execution_count": 1,
   "metadata": {},
   "outputs": [
    {
     "ename": "NameError",
     "evalue": "name 'l' is not defined",
     "output_type": "error",
     "traceback": [
      "\u001b[1;31m---------------------------------------------------------------------------\u001b[0m",
      "\u001b[1;31mNameError\u001b[0m                                 Traceback (most recent call last)",
      "\u001b[1;32m<ipython-input-1-f5cf0866ec1f>\u001b[0m in \u001b[0;36m<module>\u001b[1;34m\u001b[0m\n\u001b[1;32m----> 1\u001b[1;33m \u001b[1;32mif\u001b[0m \u001b[0ml\u001b[0m\u001b[1;33m:\u001b[0m\u001b[1;33m\u001b[0m\u001b[1;33m\u001b[0m\u001b[0m\n\u001b[0m\u001b[0;32m      2\u001b[0m     \u001b[0mprint\u001b[0m\u001b[1;33m(\u001b[0m\u001b[1;34m'hahhah'\u001b[0m\u001b[1;33m)\u001b[0m\u001b[1;33m\u001b[0m\u001b[1;33m\u001b[0m\u001b[0m\n",
      "\u001b[1;31mNameError\u001b[0m: name 'l' is not defined"
     ]
    }
   ],
   "source": []
  },
  {
   "cell_type": "markdown",
   "metadata": {},
   "source": [
    "## EP：\n",
    "- 用户输入一个数字，判断其实奇数还是偶数\n",
    "- 进阶：可以查看下4.5实例研究猜生日"
   ]
  },
  {
   "cell_type": "markdown",
   "metadata": {},
   "source": [
    "## 双向if-else 语句\n",
    "- 如果条件为真，那么走if内部语句，否则走else内部语句"
   ]
  },
  {
   "cell_type": "code",
   "execution_count": null,
   "metadata": {},
   "outputs": [],
   "source": [
    "if condition:\n",
    "    if con:\n",
    "        do\n",
    "    else:\n",
    "            other\n",
    "    do something\n",
    "else:\n",
    "        other"
   ]
  },
  {
   "cell_type": "code",
   "execution_count": 6,
   "metadata": {},
   "outputs": [
    {
     "name": "stdout",
     "output_type": "stream",
     "text": [
      "一个人的身价60\n",
      "w\n",
      "滚\n",
      "老婆\n"
     ]
    }
   ],
   "source": [
    "w =eval(input('一个人的身价'))\n",
    "if w>30:\n",
    "    print('w')\n",
    "else:\n",
    "    print('滚')\n",
    "if w<40:\n",
    "    print('帅')\n",
    "else:\n",
    "    print('滚')\n",
    "    if w>50:\n",
    "        print('老婆')\n",
    "    else:\n",
    "        print('滚')"
   ]
  },
  {
   "cell_type": "code",
   "execution_count": 11,
   "metadata": {},
   "outputs": [
    {
     "name": "stdout",
     "output_type": "stream",
     "text": [
      "Money[y/n]y\n",
      "再问一个问题\n",
      "Hadsome[y/n]y\n",
      "非常关键的一个问题\n",
      "Wife[y/n]n\n",
      "马上结婚\n"
     ]
    }
   ],
   "source": [
    "money =input('Money[y/n]')\n",
    "if money =='y':\n",
    "    print('再问一个问题')\n",
    "    handsome =input('Hadsome[y/n]')\n",
    "    if handsome =='y':\n",
    "        print('非常关键的一个问题')\n",
    "        wife =input('Wife[y/n]')\n",
    "        if wife =='y':\n",
    "            print('拒绝')\n",
    "        else:\n",
    "                print('马上结婚')\n",
    "    else:\n",
    "                print('考虑一下')\n",
    "else:\n",
    "    print('滚')\n",
    "                "
   ]
  },
  {
   "cell_type": "markdown",
   "metadata": {},
   "source": [
    "## EP：\n",
    "- 产生两个随机整数number1和number2，然后显示给用户，使用户输入数字，并判定其是否正确,如果正确打印“you‘re correct”，否则打印正确错误"
   ]
  },
  {
   "cell_type": "markdown",
   "metadata": {},
   "source": [
    "## 嵌套if 和多向if-elif-else\n",
    "![](../Photo/35.png)"
   ]
  },
  {
   "cell_type": "code",
   "execution_count": 12,
   "metadata": {},
   "outputs": [
    {
     "name": "stdout",
     "output_type": "stream",
     "text": [
      "A\n"
     ]
    }
   ],
   "source": [
    "score = 90\n",
    "if score >=90:\n",
    "    grad ='A'\n",
    "elif score >=80:\n",
    "    grad ='B'\n",
    "elif score >=70:\n",
    "    grad ='C'\n",
    "else:\n",
    "    grad ='D'\n",
    "print(grad)"
   ]
  },
  {
   "cell_type": "code",
   "execution_count": 26,
   "metadata": {},
   "outputs": [
    {
     "ename": "SyntaxError",
     "evalue": "invalid syntax (<ipython-input-26-3f8860248c74>, line 15)",
     "output_type": "error",
     "traceback": [
      "\u001b[1;36m  File \u001b[1;32m\"<ipython-input-26-3f8860248c74>\"\u001b[1;36m, line \u001b[1;32m15\u001b[0m\n\u001b[1;33m    else x ==3:\u001b[0m\n\u001b[1;37m         ^\u001b[0m\n\u001b[1;31mSyntaxError\u001b[0m\u001b[1;31m:\u001b[0m invalid syntax\n"
     ]
    }
   ],
   "source": [
    "x1 = eval(input('钱?[0/1]'))\n",
    "x2 = eval(input('帅?[0/1]'))\n",
    "x3 = eval(input('老婆?[0/1]'))\n",
    "\n",
    "x = x1+x2+ x3\n",
    "if x == 0:\n",
    "    print('滚')\n",
    "if x ==2:\n",
    "    if x1 ==0:\n",
    "        print('滚')\n",
    "    elif x2 ==0:\n",
    "        print('考虑一下')\n",
    "    elif x3 ==0:\n",
    "        print('马上结婚')\n",
    "else x ==3:\n",
    "print('有老婆也要考虑一下')"
   ]
  },
  {
   "cell_type": "code",
   "execution_count": null,
   "metadata": {},
   "outputs": [],
   "source": [
    "x1 = eval(input('钱?[0/1]'))\n",
    "if x1==1:\n",
    "    x2 = eval(input('帅?[0/1]'))\n",
    "    if x2==1:\n",
    "        pass\n",
    "    elif \n",
    "elif x1==0:\n",
    "    print('滚')\n",
    "x2 = eval(input('帅?[0/1]'))\n",
    "    "
   ]
  },
  {
   "cell_type": "markdown",
   "metadata": {},
   "source": [
    "## EP：\n",
    "- 提示用户输入一个年份，然后显示表示这一年的动物\n",
    "![](../Photo/36.png)\n",
    "- 计算身体质量指数的程序\n",
    "- BMI = 以千克为单位的体重除以以米为单位的身高的平方\n",
    "![](../Photo/37.png)"
   ]
  },
  {
   "cell_type": "code",
   "execution_count": 11,
   "metadata": {},
   "outputs": [
    {
     "name": "stdout",
     "output_type": "stream",
     "text": [
      "请输入一个年份2000\n",
      "龙\n"
     ]
    }
   ],
   "source": [
    "y =eval(input('请输入一个年份'))\n",
    "if  y%12==0:\n",
    "    sheng ='猴'\n",
    "elif y%12==1:\n",
    "    sheng ='鸡'\n",
    "elif y%12==2:\n",
    "    sheng ='狗'\n",
    "elif y%12==3:\n",
    "    sheng ='猪'\n",
    "elif y%12==4:\n",
    "    sheng ='鼠'\n",
    "elif y%12==5:\n",
    "    sheng ='牛'\n",
    "elif y%12==6:\n",
    "    sheng ='虎'\n",
    "elif y%12==7:\n",
    "    sheng ='兔'\n",
    "elif y%12==8:\n",
    "    sheng ='龙'\n",
    "elif y%12==9:\n",
    "    sheng ='蛇'\n",
    "elif y%12==10:\n",
    "    sheng ='马'\n",
    "else:\n",
    "    sheng ='羊'\n",
    "print(sheng)\n"
   ]
  },
  {
   "cell_type": "code",
   "execution_count": 2,
   "metadata": {},
   "outputs": [
    {
     "name": "stdout",
     "output_type": "stream",
     "text": [
      "请输入身高1.65\n",
      "请输入体重51\n",
      "超轻\n"
     ]
    }
   ],
   "source": [
    "x =eval(input('请输入身高'))\n",
    "y =eval(input('请输入体重'))\n",
    "BMI = x/(y*y)\n",
    "if BMI<18.5:\n",
    "    print('超轻')\n",
    "elif 18.5<=BMI<=25.0:\n",
    "    print('标准')\n",
    "elif 25<=BMI<=30:\n",
    "    print('超重')\n",
    "else :\n",
    "    print('死胖')"
   ]
  },
  {
   "cell_type": "markdown",
   "metadata": {},
   "source": [
    "## 逻辑运算符\n",
    "![](../Photo/38.png)"
   ]
  },
  {
   "cell_type": "code",
   "execution_count": null,
   "metadata": {},
   "outputs": [],
   "source": []
  },
  {
   "cell_type": "markdown",
   "metadata": {},
   "source": [
    "![](../Photo/39.png)\n",
    "![](../Photo/40.png)"
   ]
  },
  {
   "cell_type": "markdown",
   "metadata": {},
   "source": [
    "## EP：\n",
    "- 判定闰年：一个年份如果能被4整除但不能被100整除，或者能被400整除，那么这个年份就是闰年\n",
    "- 提示用户输入一个年份，并返回是否是闰年\n",
    "- 提示用户输入一个数字，判断其是否为水仙花数"
   ]
  },
  {
   "cell_type": "code",
   "execution_count": 13,
   "metadata": {},
   "outputs": [
    {
     "name": "stdout",
     "output_type": "stream",
     "text": [
      "请输入一个年份2018\n",
      "平年\n"
     ]
    }
   ],
   "source": [
    "year =eval(input('请输入一个年份'))\n",
    "if year % 4==0:\n",
    "    print('闰年')\n",
    "elif year % 400==0 and year %100>0:\n",
    "        print('闰年')\n",
    "else:\n",
    "    print('平年')"
   ]
  },
  {
   "cell_type": "code",
   "execution_count": null,
   "metadata": {},
   "outputs": [],
   "source": [
    "number = eval(input('数字'))\n",
    "bai = nubmer // 100\n",
    "shi = nubmer //"
   ]
  },
  {
   "cell_type": "code",
   "execution_count": 14,
   "metadata": {},
   "outputs": [
    {
     "name": "stdout",
     "output_type": "stream",
     "text": [
      "数字101\n"
     ]
    },
    {
     "ename": "NameError",
     "evalue": "name 'nubmer' is not defined",
     "output_type": "error",
     "traceback": [
      "\u001b[1;31m---------------------------------------------------------------------------\u001b[0m",
      "\u001b[1;31mNameError\u001b[0m                                 Traceback (most recent call last)",
      "\u001b[1;32m<ipython-input-14-b50d2bee0462>\u001b[0m in \u001b[0;36m<module>\u001b[1;34m\u001b[0m\n\u001b[0;32m      1\u001b[0m \u001b[1;32mfor\u001b[0m \u001b[0mnumber\u001b[0m \u001b[1;32min\u001b[0m \u001b[0mrange\u001b[0m\u001b[1;33m(\u001b[0m\u001b[1;36m100\u001b[0m\u001b[1;33m,\u001b[0m\u001b[1;36m1000\u001b[0m\u001b[1;33m)\u001b[0m\u001b[1;33m:\u001b[0m\u001b[1;33m\u001b[0m\u001b[1;33m\u001b[0m\u001b[0m\n\u001b[0;32m      2\u001b[0m     \u001b[0mnumber\u001b[0m \u001b[1;33m=\u001b[0m \u001b[0meval\u001b[0m\u001b[1;33m(\u001b[0m\u001b[0minput\u001b[0m\u001b[1;33m(\u001b[0m\u001b[1;34m'数字'\u001b[0m\u001b[1;33m)\u001b[0m\u001b[1;33m)\u001b[0m\u001b[1;33m\u001b[0m\u001b[1;33m\u001b[0m\u001b[0m\n\u001b[1;32m----> 3\u001b[1;33m     \u001b[0mbai\u001b[0m \u001b[1;33m=\u001b[0m \u001b[0mnubmer\u001b[0m \u001b[1;33m//\u001b[0m \u001b[1;36m100\u001b[0m\u001b[1;33m\u001b[0m\u001b[1;33m\u001b[0m\u001b[0m\n\u001b[0m\u001b[0;32m      4\u001b[0m     \u001b[0mshi\u001b[0m \u001b[1;33m=\u001b[0m \u001b[0mnubmer\u001b[0m \u001b[1;33m//\u001b[0m \u001b[1;36m10\u001b[0m \u001b[1;33m%\u001b[0m \u001b[1;36m10\u001b[0m\u001b[1;33m\u001b[0m\u001b[1;33m\u001b[0m\u001b[0m\n\u001b[0;32m      5\u001b[0m     \u001b[0mge\u001b[0m \u001b[1;33m=\u001b[0m \u001b[0mnumber\u001b[0m \u001b[1;33m%\u001b[0m \u001b[1;36m10\u001b[0m\u001b[1;33m\u001b[0m\u001b[1;33m\u001b[0m\u001b[0m\n",
      "\u001b[1;31mNameError\u001b[0m: name 'nubmer' is not defined"
     ]
    }
   ],
   "source": [
    "for number in range(100,1000):\n",
    "    number = eval(input('数字'))\n",
    "    bai = nubmer // 100\n",
    "    shi = nubmer // 10 % 10\n",
    "    ge = number % 10\n",
    "    \n",
    "    if bai **3 + shi **3 +ge ** 3 == number:\n",
    "        print(number,'水仙花')\n",
    "    "
   ]
  },
  {
   "cell_type": "markdown",
   "metadata": {},
   "source": [
    "## 实例研究：彩票\n",
    "![](../Photo/41.png)"
   ]
  },
  {
   "cell_type": "code",
   "execution_count": 46,
   "metadata": {},
   "outputs": [],
   "source": [
    "import random"
   ]
  },
  {
   "cell_type": "code",
   "execution_count": 47,
   "metadata": {},
   "outputs": [
    {
     "name": "stdout",
     "output_type": "stream",
     "text": [
      "53\n",
      "请输入一个两位数的数字51\n",
      "奖金为1000美元\n"
     ]
    }
   ],
   "source": [
    "n = random.randint(50,66)\n",
    "print(n)\n",
    "j = eval(input('请输入一个两位数的数字'))\n",
    "if (j // 10) == (n // 10) and (j % 10) == (n % 10):\n",
    "    print('奖金为10000美元')\n",
    "elif (j // 10) == (n % 10) and (j % 10) == (n // 10):\n",
    "    print('奖金为3000美元')\n",
    "elif (j // 10) == (n // 10) or (j //10) == (n % 10):\n",
    "    print('奖金为1000美元')\n",
    "elif (j % 10) == (n // 10) or (j % 10) == (n % 10):\n",
    "    print('奖金为1000美元')"
   ]
  },
  {
   "cell_type": "markdown",
   "metadata": {},
   "source": [
    "# Homework\n",
    "- 1\n",
    "![](../Photo/42.png)"
   ]
  },
  {
   "cell_type": "code",
   "execution_count": 25,
   "metadata": {},
   "outputs": [],
   "source": [
    "import math"
   ]
  },
  {
   "cell_type": "code",
   "execution_count": 26,
   "metadata": {},
   "outputs": [
    {
     "name": "stdout",
     "output_type": "stream",
     "text": [
      "请输入a值1\n",
      "请输入b值3\n",
      "请输入c值1\n",
      "(-0.3819660112501051, -2.618033988749895)\n"
     ]
    }
   ],
   "source": [
    "a =eval(input('请输入a值'))\n",
    "b =eval(input('请输入b值'))\n",
    "c =eval(input('请输入c值'))\n",
    "if b*b-4*a*c>0:\n",
    "    root =((-b+math.sqrt((b*b)-4*a*c))/2*a),((-b-math.sqrt((b*b)-4*a*c))/2*a)\n",
    "elif b*b-4*a*c==0:\n",
    "    root =((-b)/(2*a))\n",
    "else:\n",
    "    root =('没有根')\n",
    "print(root)\n",
    "    "
   ]
  },
  {
   "cell_type": "markdown",
   "metadata": {},
   "source": [
    "- 2\n",
    "![](../Photo/43.png)"
   ]
  },
  {
   "cell_type": "code",
   "execution_count": 31,
   "metadata": {},
   "outputs": [],
   "source": [
    "import random"
   ]
  },
  {
   "cell_type": "code",
   "execution_count": 32,
   "metadata": {},
   "outputs": [],
   "source": [
    "x1 =random.randint(20,56)"
   ]
  },
  {
   "cell_type": "code",
   "execution_count": 33,
   "metadata": {},
   "outputs": [],
   "source": [
    "x2 =random.randint(40,86)"
   ]
  },
  {
   "cell_type": "code",
   "execution_count": 35,
   "metadata": {},
   "outputs": [
    {
     "name": "stdout",
     "output_type": "stream",
     "text": [
      "x1+x286\n",
      "False\n"
     ]
    }
   ],
   "source": [
    "x =eval(input('x1+x2'))\n",
    "if x==x1+x2:\n",
    "    print(True)\n",
    "else :\n",
    "    print(False)"
   ]
  },
  {
   "cell_type": "markdown",
   "metadata": {},
   "source": [
    "- 3\n",
    "![](../Photo/44.png)"
   ]
  },
  {
   "cell_type": "code",
   "execution_count": 42,
   "metadata": {},
   "outputs": [
    {
     "name": "stdout",
     "output_type": "stream",
     "text": [
      "请输入今天为：0\n",
      "plus_days31\n",
      "星期日 3\n"
     ]
    }
   ],
   "source": [
    "day =eval(input('请输入今天为：'))\n",
    "plus_days =eval(input('plus_days'))\n",
    "plus_week =(day+plus_days)%7\n",
    "if day==0:\n",
    "    week =('星期日')\n",
    "elif day==1:\n",
    "    week =('星期一')\n",
    "    \n",
    "elif day==2:\n",
    "    week =('星期二')\n",
    "    \n",
    "elif day==3:\n",
    "    week =('星期三')\n",
    "elif day==4:\n",
    "    week =('星期四')\n",
    "    \n",
    "elif day==5:\n",
    "    week =('星期五')\n",
    "elif day==6:\n",
    "    week =('星期六')\n",
    "print(week,plus_week)"
   ]
  },
  {
   "cell_type": "markdown",
   "metadata": {},
   "source": [
    "- 4\n",
    "![](../Photo/45.png)"
   ]
  },
  {
   "cell_type": "code",
   "execution_count": 2,
   "metadata": {},
   "outputs": [
    {
     "name": "stdout",
     "output_type": "stream",
     "text": [
      "请输入一个数25\n",
      "请输入一个数23\n",
      "请输入一个数12\n",
      "12 23 25\n"
     ]
    }
   ],
   "source": [
    "yi =eval(input('请输入一个数'))\n",
    "er =eval(input('请输入一个数'))\n",
    "san =eval(input('请输入一个数'))\n",
    "if yi<er<san:\n",
    "    print(yi,er,san)\n",
    "elif yi<san<er:\n",
    "    print(yi,san,er)\n",
    "elif er<yi<san:\n",
    "    print(er,yi,san)\n",
    "elif er<san<yi:\n",
    "    print(er,san,yi)\n",
    "elif san<er<yi:\n",
    "    print(san,er,yi)\n",
    "elif san<yi<er:\n",
    "    print(san,er,yi)"
   ]
  },
  {
   "cell_type": "markdown",
   "metadata": {},
   "source": [
    "- 5\n",
    "![](../Photo/46.png)"
   ]
  },
  {
   "cell_type": "code",
   "execution_count": 8,
   "metadata": {},
   "outputs": [
    {
     "name": "stdout",
     "output_type": "stream",
     "text": [
      "米1的重量，米1的价格:50,24.59\n",
      "米2的重量，米2的价格:25,11.99\n",
      "米2\n"
     ]
    }
   ],
   "source": [
    "mz1,mj1=eval(input('米1的重量，米1的价格:'))\n",
    "mz2,mj2 =eval(input('米2的重量，米2的价格:'))\n",
    "mj1 =mz1/mj1\n",
    "mj2 =mz2/mj2\n",
    "if mz1/mj1<mz2/mj2 :\n",
    "    print(米1)\n",
    "else:\n",
    "    print(米2)"
   ]
  },
  {
   "cell_type": "markdown",
   "metadata": {},
   "source": [
    "- 6\n",
    "![](../Photo/47.png)"
   ]
  },
  {
   "cell_type": "code",
   "execution_count": 37,
   "metadata": {},
   "outputs": [
    {
     "name": "stdout",
     "output_type": "stream",
     "text": [
      "请输入年份：2000\n",
      "闰年\n",
      "请输入月份：2\n",
      "29\n"
     ]
    }
   ],
   "source": [
    "year=eval(input('请输入年份：'))\n",
    "if(year%4==0 and year % 100 !=0)or(year%400==0):\n",
    "    print('闰年')\n",
    "    yue=eval(input('请输入月份：'))\n",
    "    if   yue==2:\n",
    "        print('29') \n",
    "    elif yue==1:\n",
    "        print('31')\n",
    "    elif yue==3:\n",
    "        print('31')\n",
    "    elif yue==5:\n",
    "         print('31')\n",
    "    elif  yue==7:\n",
    "         print('31')\n",
    "    elif yue==8:\n",
    "         print('31')\n",
    "    elif yue==10:\n",
    "         print('31')\n",
    "    elif yue==12:\n",
    "        print('31')\n",
    "else:\n",
    "    print('平年')\n",
    "    yue=eval(input('请输入月份：'))\n",
    "    if yue==2:\n",
    "        print('28') \n",
    "    elif yue==1 or yue==3 or yue==5 or yue==7 or yue==8 or yue==10 or yue==12:\n",
    "        print('31')"
   ]
  },
  {
   "cell_type": "markdown",
   "metadata": {},
   "source": [
    "- 7\n",
    "![](../Photo/48.png)"
   ]
  },
  {
   "cell_type": "code",
   "execution_count": 5,
   "metadata": {},
   "outputs": [],
   "source": [
    "import random"
   ]
  },
  {
   "cell_type": "code",
   "execution_count": 6,
   "metadata": {},
   "outputs": [],
   "source": [
    "n =random.randint(0,1)"
   ]
  },
  {
   "cell_type": "code",
   "execution_count": 9,
   "metadata": {},
   "outputs": [
    {
     "name": "stdout",
     "output_type": "stream",
     "text": [
      "请输入一个数字：1\n",
      "False\n"
     ]
    }
   ],
   "source": [
    "x= eval(input('请输入一个数字：'))\n",
    "if n==x:\n",
    "    print(True)\n",
    "else:\n",
    "    print(False)"
   ]
  },
  {
   "cell_type": "markdown",
   "metadata": {},
   "source": [
    "- 8\n",
    "![](../Photo/49.png)"
   ]
  },
  {
   "cell_type": "code",
   "execution_count": 1,
   "metadata": {},
   "outputs": [],
   "source": [
    "import random"
   ]
  },
  {
   "cell_type": "code",
   "execution_count": 2,
   "metadata": {},
   "outputs": [
    {
     "name": "stdout",
     "output_type": "stream",
     "text": [
      "2\n"
     ]
    }
   ],
   "source": [
    "computer=random.randint(0,2)\n",
    "print(computer)"
   ]
  },
  {
   "cell_type": "code",
   "execution_count": 3,
   "metadata": {},
   "outputs": [
    {
     "name": "stdout",
     "output_type": "stream",
     "text": [
      "请输入一个数字1\n",
      "you lose\n"
     ]
    }
   ],
   "source": [
    "you =eval(input('请输入一个数字'))\n",
    "if computer ==0 and you ==1:\n",
    "    print('you won')\n",
    "elif computer ==0 and you ==2:\n",
    "    print('you lose')\n",
    "elif computer ==1 and you ==1:\n",
    "    print('it is a draw')\n",
    "elif  computer ==1 and you ==0:\n",
    "    print('you lose')\n",
    "elif computer ==1 and you ==2:\n",
    "    print('you won')\n",
    "elif computer ==0 and you ==0:\n",
    "    print('it is a draw')\n",
    "elif computer ==2 and you ==0:\n",
    "    print('you won')\n",
    "elif computer ==2 and you ==2:\n",
    "     print('it is a draw')\n",
    "elif computer ==2 and you ==1:\n",
    "     print('you lose')\n",
    "    "
   ]
  },
  {
   "cell_type": "markdown",
   "metadata": {},
   "source": [
    "- 9\n",
    "![](../Photo/50.png)"
   ]
  },
  {
   "cell_type": "code",
   "execution_count": 2,
   "metadata": {},
   "outputs": [
    {
     "name": "stdout",
     "output_type": "stream",
     "text": [
      "请输入一个年份：2013\n",
      "请输入月份：1\n",
      "请输入一个月中的天数：25\n",
      "星期三\n"
     ]
    }
   ],
   "source": [
    "nian =eval(input('请输入一个年份：'))\n",
    "m =eval(input('请输入月份：'))\n",
    "q =eval(input('请输入一个月中的天数：'))\n",
    "if yue==1:\n",
    "    yue=13\n",
    "    nian = nian-1\n",
    "if yue ==2:\n",
    "    yue =14\n",
    "    nian =nian-1\n",
    "h = (q+int(26*(m+1)/10+int(nian%100)+int(nian%100/4)+int(nian/100/4)+int(5*nian/100)))%7\n",
    "if h==0:\n",
    "    print('星期六')\n",
    "elif h==1:\n",
    "    print('星期日')\n",
    "elif h==2:\n",
    "    print('星期一')\n",
    "elif h==3:\n",
    "    print('星期二')\n",
    "elif h==4:\n",
    "    print('星期三')\n",
    "elif h==5:\n",
    "    print('星期四')\n",
    "elif h==6:\n",
    "    print('星期五')\n",
    "\n",
    "    \n",
    "\n",
    "    "
   ]
  },
  {
   "cell_type": "markdown",
   "metadata": {},
   "source": [
    "- 10\n",
    "![](../Photo/51.png)"
   ]
  },
  {
   "cell_type": "code",
   "execution_count": 7,
   "metadata": {},
   "outputs": [],
   "source": [
    "import random"
   ]
  },
  {
   "cell_type": "code",
   "execution_count": 8,
   "metadata": {},
   "outputs": [
    {
     "name": "stdout",
     "output_type": "stream",
     "text": [
      "The card you picked is the King of Spade\n"
     ]
    }
   ],
   "source": [
    "x =random.randint(0,51)\n",
    "if x==0:\n",
    "    print('The card you picked is the Jack of Hearts')\n",
    "elif x==1:\n",
    "    print('The card you picked is the Jack of Plum Blossom')\n",
    "elif x ==2:\n",
    "    print('The card you picked is the Jack of diamond')\n",
    "elif x==3:\n",
    "    print('The card you picked is the Jack of Spade')\n",
    "elif x==4:\n",
    "    print('The card you picked is the Ace of Hearts')\n",
    "elif x==5:\n",
    "    print('The card you picked is the Ace of Plum Blossom')\n",
    "elif x==6:\n",
    "     print('The card you picked is the Ace of diamond')\n",
    "elif x==7:\n",
    "     print('The card you picked is the Ace of Spade')\n",
    "elif x ==8:\n",
    "     print('The card you picked is the 2 of Hearts')\n",
    "elif x==9:\n",
    "     print('The card you picked is the 2 of Plum Blossom')\n",
    "elif x==10:\n",
    "     print('The card you picked is the 2 of diamond')\n",
    "elif x==11:\n",
    "    print('The card you picked is the 2 of Spade')\n",
    "elif x==12:\n",
    "    print('The card you picked is the 3 of Hearts')\n",
    "elif x==13:\n",
    "    print('The card you picked is the 3 of Plum Blossom')\n",
    "elif x==14:\n",
    "    print('The card you picked is the 3 of diamond')\n",
    "elif x==15:\n",
    "    print('The card you picked is the 3 of Spade')\n",
    "elif x==16:\n",
    "    print('The card you picked is the 4 of Hearts')\n",
    "elif x==17:\n",
    "    print('The card you picked is the 4 of Plum Blossom')\n",
    "elif x==18:\n",
    "     print('The card you picked is the 4 of diamond')\n",
    "elif x==19:\n",
    "    print('The card you picked is the 4 of Spade')\n",
    "elif x==20:\n",
    "     print('The card you picked is the 5 of Hearts')\n",
    "elif x==21:\n",
    "    print('The card you picked is the 5 of Plum Blossom')\n",
    "elif x==22:\n",
    "    print('The card you picked is the 5 of diamond')\n",
    "elif x==23:\n",
    "     print('The card you picked is the 5 of Spade')\n",
    "elif x==24:\n",
    "     print('The card you picked is the 6 of Hearts')\n",
    "elif x==25:\n",
    "    print('The card you picked is the 6 of Plum Blossom')\n",
    "elif x==26:\n",
    "     print('The card you picked is the 6 of diamond')\n",
    "elif x==27:\n",
    "     print('The card you picked is the 6 of Spade')\n",
    "elif x==28:\n",
    "    print('The card you picked is the 7 of Hearts')\n",
    "elif x==29:\n",
    "     print('The card you picked is the 7 of Plum Blossom')\n",
    "elif x==30:\n",
    "    print('The card you picked is the 7 of diamond')\n",
    "elif x==31:\n",
    "    print('The card you picked is the 7 of Spade')\n",
    "elif x==32:\n",
    "     print('The card you picked is the 8 of Hearts')\n",
    "elif x==33:\n",
    "    print('The card you picked is the 8 of Plum Blossom')\n",
    "elif x==34:\n",
    "     print('The card you picked is the 8 of diamond')\n",
    "elif x==35:\n",
    "      print('The card you picked is the 8 of Spade')\n",
    "elif x==36:\n",
    "     print('The card you picked is the 9 of Hearts')\n",
    "elif x==37:\n",
    "     print('The card you picked is the 9 of Plum Blossom')\n",
    "elif x==38:\n",
    "    print('The card you picked is the 9 of diamond')\n",
    "elif x==39:\n",
    "     print('The card you picked is the 9 of Spade')\n",
    "elif x==40:\n",
    "     print('The card you picked is the Queen of Hearts')\n",
    "elif x==41:\n",
    "    print('The card you picked is the Queen of Plum Blossom')\n",
    "elif x==42:\n",
    "     print('The card you picked is the Queen of diamond')\n",
    "elif x==43:\n",
    "    print('The card you picked is the Queen of Spade')\n",
    "elif x==44:\n",
    "    print('The card you picked is the 10 of Hearts')\n",
    "elif x==45:\n",
    "     print('The card you picked is the 10 of Plum Blossom')\n",
    "elif x==46:\n",
    "    print('The card you picked is the 10 of diamond')\n",
    "elif x==47:\n",
    "    print('The card you picked is the 10 of Spade')\n",
    "elif x==48:\n",
    "     print('The card you picked is the King of Hearts')\n",
    "elif x==49:\n",
    "    print('The card you picked is the King of Plum Blossom')\n",
    "elif x==50:\n",
    "    print('The card you picked is the King of diamond')\n",
    "elif x==51:\n",
    "    print('The card you picked is the King of Spade')\n",
    "    \n",
    "\n",
    "\n",
    "\n",
    "        "
   ]
  },
  {
   "cell_type": "markdown",
   "metadata": {},
   "source": [
    "- 11\n",
    "![](../Photo/52.png)"
   ]
  },
  {
   "cell_type": "code",
   "execution_count": 8,
   "metadata": {},
   "outputs": [
    {
     "name": "stdout",
     "output_type": "stream",
     "text": [
      "请输入一个三位数字121\n",
      "121 is a  palindrome\n"
     ]
    }
   ],
   "source": [
    "n1 =eval(input('请输入一个三位数字'))\n",
    "dy =n1 % 10\n",
    "dr =n1 % 100 //10\n",
    "ds =n1 //100 %10\n",
    "n2 = dy*100+dr*10+ds\n",
    "if n1==n2:\n",
    "    print(n1,'is a  palindrome')\n",
    "else:\n",
    "    print(n1,'is not a  palindrome')\n",
    "    \n"
   ]
  },
  {
   "cell_type": "markdown",
   "metadata": {},
   "source": [
    "- 12\n",
    "![](../Photo/53.png)"
   ]
  },
  {
   "cell_type": "code",
   "execution_count": 17,
   "metadata": {},
   "outputs": [
    {
     "name": "stdout",
     "output_type": "stream",
     "text": [
      "请输入边长：1\n",
      "请输入边长：1\n",
      "请输入变长：1\n",
      "3\n"
     ]
    }
   ],
   "source": [
    "bian1 =eval(input('请输入边长：'))\n",
    "bian2 =eval(input('请输入边长：'))\n",
    "bian3 =eval(input('请输入变长：'))\n",
    "if bian1+bian2>bian3:\n",
    "    print(bian1+bian2+bian3)\n",
    "else:\n",
    "    print(False)"
   ]
  },
  {
   "cell_type": "code",
   "execution_count": null,
   "metadata": {},
   "outputs": [],
   "source": []
  }
 ],
 "metadata": {
  "kernelspec": {
   "display_name": "Python 3",
   "language": "python",
   "name": "python3"
  },
  "language_info": {
   "codemirror_mode": {
    "name": "ipython",
    "version": 3
   },
   "file_extension": ".py",
   "mimetype": "text/x-python",
   "name": "python",
   "nbconvert_exporter": "python",
   "pygments_lexer": "ipython3",
   "version": "3.7.3"
  }
 },
 "nbformat": 4,
 "nbformat_minor": 2
}
